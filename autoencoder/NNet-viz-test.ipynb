{
 "cells": [
  {
   "cell_type": "code",
   "execution_count": null,
   "metadata": {},
   "outputs": [],
   "source": [
    "from keras.callbacks import TensorBoard\n",
    "from keras.layers import Input, Convolution2D, MaxPooling2D, UpSampling2D, merge\n",
    "from keras.models import Model\n",
    "from keras import regularizers\n",
    "import numpy as np\n",
    "import keras.utils.vis_utils as vutil\n",
    "from IPython.display import SVG, Image"
   ]
  },
  {
   "cell_type": "code",
   "execution_count": null,
   "metadata": {},
   "outputs": [],
   "source": [
    "def inception_module(x, params, concat_axis,\n",
    "                     subsample=(1, 1), activation='relu',\n",
    "                     border_mode='same', weight_decay=None):\n",
    "\n",
    "    # https://gist.github.com/nervanazoo/2e5be01095e935e90dd8  #\n",
    "    # file-googlenet_neon-py\n",
    "\n",
    "    (branch1, branch2, branch3, branch4) = params\n",
    "\n",
    "    if weight_decay:\n",
    "        W_regularizer = regularizers.l2(weight_decay)\n",
    "        b_regularizer = regularizers.l2(weight_decay)\n",
    "    else:\n",
    "        W_regularizer = None\n",
    "        b_regularizer = None\n",
    "\n",
    "    pathway1 = Convolution2D(branch1[0], 1, 1,\n",
    "                             subsample=subsample,\n",
    "                             activation=activation,\n",
    "                             border_mode=border_mode,\n",
    "                             W_regularizer=W_regularizer,\n",
    "                             b_regularizer=b_regularizer,\n",
    "                             bias=False,)(x)\n",
    "\n",
    "    pathway2 = Convolution2D(branch2[0], 1, 1,\n",
    "                             subsample=subsample,\n",
    "                             activation=activation,\n",
    "                             border_mode=border_mode,\n",
    "                             W_regularizer=W_regularizer,\n",
    "                             b_regularizer=b_regularizer,\n",
    "                             bias=False)(x)\n",
    "    pathway2 = Convolution2D(branch2[1], 3, 1,\n",
    "                             subsample=subsample,\n",
    "                             activation=activation,\n",
    "                             border_mode=border_mode,\n",
    "                             W_regularizer=W_regularizer,\n",
    "                             b_regularizer=b_regularizer,\n",
    "                             bias=False)(pathway2)\n",
    "\n",
    "    pathway3 = Convolution2D(branch3[0], 1, 1,\n",
    "                             subsample=subsample,\n",
    "                             activation=activation,\n",
    "                             border_mode=border_mode,\n",
    "                             W_regularizer=W_regularizer,\n",
    "                             b_regularizer=b_regularizer,\n",
    "                             bias=False)(x)\n",
    "    pathway3 = Convolution2D(branch3[1], 5, 1,\n",
    "                             subsample=subsample,\n",
    "                             activation=activation,\n",
    "                             border_mode=border_mode,\n",
    "                             W_regularizer=W_regularizer,\n",
    "                             b_regularizer=b_regularizer,\n",
    "                             bias=False)(pathway3)\n",
    "\n",
    "    pathway4 = MaxPooling2D(pool_size=(1, 1))(x)\n",
    "    pathway4 = Convolution2D(branch4[0], 1, 1,\n",
    "                             subsample=subsample,\n",
    "                             activation=activation,\n",
    "                             border_mode=border_mode,\n",
    "                             W_regularizer=W_regularizer,\n",
    "                             b_regularizer=b_regularizer,\n",
    "                             bias=False)(pathway4)\n",
    "\n",
    "    return merge([pathway1, pathway2, pathway3, pathway4],\n",
    "                 mode='concat', concat_axis=concat_axis)"
   ]
  },
  {
   "cell_type": "code",
   "execution_count": null,
   "metadata": {},
   "outputs": [],
   "source": [
    "from data_gen import get_data \n",
    "\n",
    "input_img = Input(shape=(1,540,1))\n",
    "\n",
    "CONCAT_AXIS =1\n",
    "\n",
    "#x = Convolution2D(16, 3, 1, activation='relu', border_mode='same')(input_img)\n",
    "#x = MaxPooling2D((2,1), border_mode='same')(x)\n",
    "x = inception_module(input_img, params=[(64, ), (1, 96 ), (1, 16 ), (32, )],\n",
    "                     concat_axis=CONCAT_AXIS, border_mode='same')\n",
    "#x = MaxPooling2D((2,1), border_mode='same')(x)\n",
    "#x = Convolution2D(16, 3, 1, activation='relu', border_mode='same')(x)\n",
    "x = inception_module(x, params=[(64, ), (1, 96 ), (1, 16 ), (32, )],\n",
    "                     concat_axis=CONCAT_AXIS, border_mode='same')\n",
    "#x = MaxPooling2D((2,1), border_mode='same')(x)\n",
    "x = inception_module(x, params=[(64, ), (1, 96 ), (1, 16 ), (32, )],\n",
    "                     concat_axis=CONCAT_AXIS, border_mode='same')\n",
    "\n",
    "#encoded = MaxPooling2D((2,1), border_mode='same')(x)\n",
    "\n",
    "#####\n",
    "\n",
    "#x = Convolution2D(8, 3, 1, activation='relu', border_mode='same')(encoded)\n",
    "#x = UpSampling2D((2,1))(x)\n",
    "#x = Convolution2D(8, 3, 1, activation='relu', border_mode='same')(x)\n",
    "#x = inception_module(encoded, params=[(64, ), (1, 96 ), (1, 16 ), (32, )],\n",
    "#                     concat_axis=CONCAT_AXIS)\n",
    "#x = UpSampling2D((2,1))(x)\n",
    "#x = inception_module(x, params=[(64, ), (1, 96 ), (1, 16 ), (32, )],\n",
    "#                     concat_axis=CONCAT_AXIS)\n",
    "#x = UpSampling2D((2,1))(x)\n",
    "#x = Convolution2D(8, 3, 1, activation='relu', border_mode='same')(x)\n",
    "#x = UpSampling2D((2,1))(x)\n",
    "\n",
    "decoded = Convolution2D(1, 3, 1, activation='relu', border_mode='same')(x)\n",
    "\n",
    "autoencoder = Model(input_img, decoded)\n",
    "autoencoder.compile(optimizer='rmsprop', loss='mse')"
   ]
  },
  {
   "cell_type": "code",
   "execution_count": null,
   "metadata": {},
   "outputs": [],
   "source": [
    "Image(vutil.model_to_dot(autoencoder, show_shapes=True).create(prog='dot', format=\"jpeg\"))"
   ]
  },
  {
   "cell_type": "code",
   "execution_count": null,
   "metadata": {
    "scrolled": true
   },
   "outputs": [],
   "source": [
    "epochs = 10;\n",
    "\n",
    "for i in range(epochs):\n",
    "    x, y, idx = get_data(20000)\n",
    "    xtrain = x[:16000]\n",
    "    ytrain = y[:16000]\n",
    "    xval = x[16000:]\n",
    "    yval = y[16000:]\n",
    "    x_train = np.reshape(xtrain, (len(xtrain), 1, 540, 1))\n",
    "    y_train = np.reshape(ytrain, (len(ytrain), 1, 540, 1))\n",
    "    x_test = np.reshape(xval, (len(xval), 1, 540, 1))\n",
    "    y_test = np.reshape(yval, (len(yval), 1, 540, 1))\n",
    "    \n",
    "    autoencoder.fit(x_train, y_train,\n",
    "                     nb_epoch=10,\n",
    "                     batch_size=32,\n",
    "                     shuffle=False,\n",
    "                     validation_data=(x_test, y_test),\n",
    "                     callbacks=[TensorBoard(log_dir='/tmp/autoencoder')])\n",
    "\n",
    "    #print(\"Epoch no = %d Training loss = %1.4f, Validation Loss = %1.4f\" % (i,train_loss,test_loss))\n"
   ]
  },
  {
   "cell_type": "code",
   "execution_count": null,
   "metadata": {},
   "outputs": [],
   "source": [
    "decoded_imgs = autoencoder.predict(x_test)"
   ]
  },
  {
   "cell_type": "code",
   "execution_count": null,
   "metadata": {},
   "outputs": [],
   "source": [
    "%pylab inline"
   ]
  },
  {
   "cell_type": "code",
   "execution_count": null,
   "metadata": {},
   "outputs": [],
   "source": [
    "# serialize model to JSON\n",
    "model_json = autoencoder.to_json()\n",
    "with open(\"model.json\", \"w\") as json_file:\n",
    "    json_file.write(model_json)\n",
    "# serialize weights to HDF5\n",
    "autoencoder.save_weights(\"model.h5\")\n",
    "print(\"Saved model to disk\")"
   ]
  },
  {
   "cell_type": "code",
   "execution_count": null,
   "metadata": {},
   "outputs": [],
   "source": [
    "plot(decoded_imgs[32].ravel())"
   ]
  },
  {
   "cell_type": "code",
   "execution_count": null,
   "metadata": {},
   "outputs": [],
   "source": [
    "plot(y_test[32].ravel())"
   ]
  },
  {
   "cell_type": "code",
   "execution_count": null,
   "metadata": {},
   "outputs": [],
   "source": [
    "plot(x_test[32].ravel())"
   ]
  },
  {
   "cell_type": "code",
   "execution_count": null,
   "metadata": {},
   "outputs": [],
   "source": [
    "plot(x_test[342].ravel()[100:300])"
   ]
  },
  {
   "cell_type": "code",
   "execution_count": null,
   "metadata": {},
   "outputs": [],
   "source": [
    "plot(y_test[342].ravel()[100:300])"
   ]
  },
  {
   "cell_type": "code",
   "execution_count": null,
   "metadata": {},
   "outputs": [],
   "source": [
    "plot(decoded_imgs[342].ravel()[100:300])"
   ]
  },
  {
   "cell_type": "code",
   "execution_count": null,
   "metadata": {},
   "outputs": [],
   "source": [
    "plot(y_test[32].ravel()) #142"
   ]
  },
  {
   "cell_type": "code",
   "execution_count": null,
   "metadata": {},
   "outputs": [],
   "source": [
    "plot(decoded_imgs[32].ravel()) #142"
   ]
  },
  {
   "cell_type": "code",
   "execution_count": null,
   "metadata": {},
   "outputs": [],
   "source": [
    "plot(x_test[32].ravel()) #142"
   ]
  },
  {
   "cell_type": "code",
   "execution_count": null,
   "metadata": {},
   "outputs": [],
   "source": [
    "plot(x_test[342].ravel()) #142"
   ]
  },
  {
   "cell_type": "code",
   "execution_count": null,
   "metadata": {},
   "outputs": [],
   "source": [
    "plot(decoded_imgs[342].ravel()) #142"
   ]
  },
  {
   "cell_type": "code",
   "execution_count": null,
   "metadata": {},
   "outputs": [],
   "source": [
    "plot(y_test[342].ravel()) #142"
   ]
  },
  {
   "cell_type": "code",
   "execution_count": null,
   "metadata": {},
   "outputs": [],
   "source": [
    "plot(decoded_imgs[439].ravel()) #142"
   ]
  },
  {
   "cell_type": "code",
   "execution_count": null,
   "metadata": {},
   "outputs": [],
   "source": [
    "plot(x_test[439].ravel()) #142"
   ]
  },
  {
   "cell_type": "code",
   "execution_count": null,
   "metadata": {},
   "outputs": [],
   "source": [
    "plot(y_test[439].ravel()) #142"
   ]
  },
  {
   "cell_type": "code",
   "execution_count": null,
   "metadata": {},
   "outputs": [],
   "source": [
    "plot(decoded_imgs[90].ravel()) #142"
   ]
  },
  {
   "cell_type": "code",
   "execution_count": null,
   "metadata": {},
   "outputs": [],
   "source": [
    "plot(x_test[90].ravel()) #142"
   ]
  },
  {
   "cell_type": "code",
   "execution_count": null,
   "metadata": {},
   "outputs": [],
   "source": [
    "plot(decoded_imgs[707].ravel()) #142"
   ]
  },
  {
   "cell_type": "code",
   "execution_count": null,
   "metadata": {},
   "outputs": [],
   "source": [
    "plot(x_train[707].ravel()) #142"
   ]
  },
  {
   "cell_type": "code",
   "execution_count": null,
   "metadata": {},
   "outputs": [],
   "source": [
    "plot(y_train[707].ravel()) #142"
   ]
  },
  {
   "cell_type": "code",
   "execution_count": null,
   "metadata": {},
   "outputs": [],
   "source": [
    "plot(y_train[990].ravel()) #142"
   ]
  },
  {
   "cell_type": "code",
   "execution_count": null,
   "metadata": {},
   "outputs": [],
   "source": [
    "plot(x_train[990].ravel()) #142"
   ]
  },
  {
   "cell_type": "code",
   "execution_count": null,
   "metadata": {},
   "outputs": [],
   "source": [
    "plot(decoded_imgs[990].ravel()) #142"
   ]
  },
  {
   "cell_type": "code",
   "execution_count": null,
   "metadata": {},
   "outputs": [],
   "source": [
    "plot(decoded_imgs[22].ravel()) #142"
   ]
  },
  {
   "cell_type": "code",
   "execution_count": null,
   "metadata": {},
   "outputs": [],
   "source": [
    "plot(x_test[22].ravel()) #142"
   ]
  },
  {
   "cell_type": "code",
   "execution_count": null,
   "metadata": {},
   "outputs": [],
   "source": [
    "plot(y_test[22].ravel()) #142"
   ]
  },
  {
   "cell_type": "code",
   "execution_count": null,
   "metadata": {},
   "outputs": [],
   "source": [
    "plot(y_test[1234].ravel()) #142"
   ]
  },
  {
   "cell_type": "code",
   "execution_count": null,
   "metadata": {},
   "outputs": [],
   "source": [
    "plot(x_test[1234].ravel()) #60"
   ]
  },
  {
   "cell_type": "code",
   "execution_count": null,
   "metadata": {},
   "outputs": [],
   "source": [
    "plot(decoded_imgs[1234].ravel()) #142"
   ]
  },
  {
   "cell_type": "code",
   "execution_count": null,
   "metadata": {},
   "outputs": [],
   "source": [
    "plot(x_test[94].ravel()) #60"
   ]
  },
  {
   "cell_type": "code",
   "execution_count": null,
   "metadata": {},
   "outputs": [],
   "source": [
    "plot(y_test[94].ravel()) #60"
   ]
  },
  {
   "cell_type": "code",
   "execution_count": null,
   "metadata": {},
   "outputs": [],
   "source": [
    "plot(decoded_imgs[17].ravel())"
   ]
  },
  {
   "cell_type": "code",
   "execution_count": null,
   "metadata": {},
   "outputs": [],
   "source": [
    "plot(x_test[17].ravel())"
   ]
  },
  {
   "cell_type": "code",
   "execution_count": null,
   "metadata": {},
   "outputs": [],
   "source": [
    "plot(x_test[6].ravel())"
   ]
  },
  {
   "cell_type": "code",
   "execution_count": null,
   "metadata": {},
   "outputs": [],
   "source": [
    "plot(decoded_imgs[6].ravel())"
   ]
  },
  {
   "cell_type": "code",
   "execution_count": null,
   "metadata": {},
   "outputs": [],
   "source": [
    "plot(y_test[6].ravel())"
   ]
  },
  {
   "cell_type": "code",
   "execution_count": null,
   "metadata": {},
   "outputs": [],
   "source": [
    "plot(y_test[73].ravel())"
   ]
  },
  {
   "cell_type": "code",
   "execution_count": null,
   "metadata": {},
   "outputs": [],
   "source": [
    "plot(x_test[73].ravel())"
   ]
  },
  {
   "cell_type": "code",
   "execution_count": null,
   "metadata": {},
   "outputs": [],
   "source": [
    "plot(decoded_imgs[73].ravel())"
   ]
  },
  {
   "cell_type": "code",
   "execution_count": null,
   "metadata": {},
   "outputs": [],
   "source": [
    "plot(y_test[278].ravel())\n",
    "\n"
   ]
  },
  {
   "cell_type": "code",
   "execution_count": null,
   "metadata": {},
   "outputs": [],
   "source": [
    "#plot(x_test[0])\n",
    "plot(x_test[278].ravel())\n",
    "\n",
    "\n"
   ]
  },
  {
   "cell_type": "code",
   "execution_count": null,
   "metadata": {},
   "outputs": [],
   "source": [
    "#plot(x_test[0])\n",
    "plot(decoded_imgs[278].ravel())"
   ]
  },
  {
   "cell_type": "code",
   "execution_count": null,
   "metadata": {
    "scrolled": true
   },
   "outputs": [],
   "source": [
    "#plot(x_test[0])\n",
    "plot(x_test[700].ravel())\n",
    "\n"
   ]
  },
  {
   "cell_type": "code",
   "execution_count": null,
   "metadata": {},
   "outputs": [],
   "source": [
    "plot(y_test[700].ravel())"
   ]
  },
  {
   "cell_type": "code",
   "execution_count": null,
   "metadata": {},
   "outputs": [],
   "source": [
    "plot(decoded_imgs[700].ravel())"
   ]
  },
  {
   "cell_type": "code",
   "execution_count": null,
   "metadata": {},
   "outputs": [],
   "source": [
    "#plot(x_test[0])\n",
    "plot(x_test[4].ravel())\n"
   ]
  },
  {
   "cell_type": "code",
   "execution_count": null,
   "metadata": {},
   "outputs": [],
   "source": [
    "plot(y_test[4].ravel())"
   ]
  },
  {
   "cell_type": "code",
   "execution_count": null,
   "metadata": {},
   "outputs": [],
   "source": [
    "plot(decoded_imgs[4].ravel())"
   ]
  },
  {
   "cell_type": "code",
   "execution_count": null,
   "metadata": {},
   "outputs": [],
   "source": [
    "plot(decoded_imgs[10].ravel())"
   ]
  },
  {
   "cell_type": "code",
   "execution_count": null,
   "metadata": {},
   "outputs": [],
   "source": []
  },
  {
   "cell_type": "code",
   "execution_count": null,
   "metadata": {},
   "outputs": [],
   "source": [
    "print(\"Epoch no = %d Training loss = %1.4f, Validation Loss = %1.4f\" % (i,train_loss,test_loss))"
   ]
  }
 ],
 "metadata": {
  "kernelspec": {
   "display_name": "Python 3",
   "language": "python",
   "name": "python3"
  },
  "language_info": {
   "codemirror_mode": {
    "name": "ipython",
    "version": 3
   },
   "file_extension": ".py",
   "mimetype": "text/x-python",
   "name": "python",
   "nbconvert_exporter": "python",
   "pygments_lexer": "ipython3",
   "version": "3.7.4"
  }
 },
 "nbformat": 4,
 "nbformat_minor": 1
}
