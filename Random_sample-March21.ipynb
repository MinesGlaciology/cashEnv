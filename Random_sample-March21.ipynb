{
 "cells": [
  {
   "cell_type": "code",
   "execution_count": 1,
   "metadata": {},
   "outputs": [],
   "source": [
    "import numpy as np\n",
    "import matplotlib.pyplot as plt\n",
    "import rasterio as rio\n",
    "import os\n",
    "from ipywidgets import interact, interactive, fixed, interact_manual\n",
    "import ipywidgets as widgets\n",
    "from IPython.display import clear_output\n",
    "import shutil\n",
    "\n",
    "import random\n",
    "import time\n",
    "from IPython.display import Image, display, clear_output\n",
    "\n",
    "\n"
   ]
  },
  {
   "cell_type": "code",
   "execution_count": 2,
   "metadata": {},
   "outputs": [],
   "source": [
    "# replace path name to your directory that has all_tiles_april\n",
    "tile_dir = \"./data/tiles/\"\n",
    "file_list = os.listdir(tile_dir)\n",
    "#file_list.sort()\n",
    "\n",
    "np.random.shuffle(file_list)\n",
    "\n",
    "# source path \n",
    "source = './data/tiles/'\n",
    "  \n",
    "# Destination path  \n",
    "destination1 = './data/crevasse/'\n",
    "destination2 = './data/moulin/'\n",
    "destination3 = './data/intTerrain/'\n",
    "destination4 = './data/discard/'\n",
    "\n",
    "\n"
   ]
  },
  {
   "cell_type": "code",
   "execution_count": 8,
   "metadata": {},
   "outputs": [
    {
     "data": {
      "application/vnd.jupyter.widget-view+json": {
       "model_id": "eb0a30250d80497e96c0421afb3c574c",
       "version_major": 2,
       "version_minor": 0
      },
      "text/plain": [
       "Output()"
      ]
     },
     "metadata": {},
     "output_type": "display_data"
    },
    {
     "data": {
      "application/vnd.jupyter.widget-view+json": {
       "model_id": "8476aa0428f34d6cb016c7cea846571c",
       "version_major": 2,
       "version_minor": 0
      },
      "text/plain": [
       "Button(description='Click for new tile', style=ButtonStyle())"
      ]
     },
     "metadata": {},
     "output_type": "display_data"
    },
    {
     "ename": "NameError",
     "evalue": "name 'tilesListDirectory' is not defined",
     "output_type": "error",
     "traceback": [
      "\u001b[0;31m---------------------------------------------------------------------------\u001b[0m",
      "\u001b[0;31mNameError\u001b[0m                                 Traceback (most recent call last)",
      "\u001b[0;32m<ipython-input-8-9191c0b10184>\u001b[0m in \u001b[0;36mon_button_clicked\u001b[0;34m(BigButton)\u001b[0m\n\u001b[1;32m     11\u001b[0m \u001b[0;34m\u001b[0m\u001b[0m\n\u001b[1;32m     12\u001b[0m     \u001b[0;31m# step 2 sets new tile\u001b[0m\u001b[0;34m\u001b[0m\u001b[0;34m\u001b[0m\u001b[0;34m\u001b[0m\u001b[0m\n\u001b[0;32m---> 13\u001b[0;31m     \u001b[0mtiles\u001b[0m \u001b[0;34m=\u001b[0m \u001b[0mtilesListDirectory\u001b[0m\u001b[0;34m\u001b[0m\u001b[0;34m\u001b[0m\u001b[0m\n\u001b[0m\u001b[1;32m     14\u001b[0m     \u001b[0mcurrent_tile\u001b[0m \u001b[0;34m=\u001b[0m \u001b[0mtiles\u001b[0m\u001b[0;34m.\u001b[0m\u001b[0mpop\u001b[0m\u001b[0;34m(\u001b[0m\u001b[0;34m)\u001b[0m \u001b[0;31m# pops last tile in the list into a variable\u001b[0m\u001b[0;34m\u001b[0m\u001b[0;34m\u001b[0m\u001b[0m\n\u001b[1;32m     15\u001b[0m     \u001b[0;31m#every execution is a new tile that is popped and scrapped from the list\u001b[0m\u001b[0;34m\u001b[0m\u001b[0;34m\u001b[0m\u001b[0;34m\u001b[0m\u001b[0m\n",
      "\u001b[0;31mNameError\u001b[0m: name 'tilesListDirectory' is not defined"
     ]
    }
   ],
   "source": [
    "# Step1 - big loop or function to start the whole cell\n",
    "\n",
    "BigButton =  widgets.Button(description=\"Click for new tile\")\n",
    "BigOutput = widgets.Output()\n",
    "\n",
    "\n",
    "\n",
    "def on_button_clicked(BigButton):\n",
    "\n",
    "    # everything below goes inside this function\n",
    "\n",
    "    # step 2 sets new tile\n",
    "    tile = file_list.pop() # pops last tile in the list into a variable \n",
    "    #every execution is a new tile that is popped and scrapped from the list \n",
    "\n",
    "\n",
    "    # produces tile\n",
    "    tile = current_tile\n",
    "    sample = rio.open(tile_dir + tile)\n",
    "    coords = sample.lnglat() # sets coordinates of image\n",
    "\n",
    "    #Step 3 Plotting of image for viewer \n",
    "    x1 = plt.imshow(sample.read().reshape((200,200))) # 200m by 200m DEM\n",
    "    cbar = plt.colorbar(x1)\n",
    "    cbar.set_label('Elevation Depth(m)')\n",
    "\n",
    "    plt.title(\"DEM at location:\", coords, \"(Longitude Latitude)\")\n",
    "    plt.xlabel('Length(meters)')\n",
    "    plt.ylabel('Length(meters)')\n",
    "    plt.show()\n",
    "\n",
    "\n",
    "\n",
    "    # Step4  sorting of tile based on visual \n",
    "\n",
    "    # creation of 4 buttons\n",
    "\n",
    "    button1 = widgets.Button(description=\"Crevasse\")\n",
    "    button2 = widgets.Button(description=\"Moulin\")\n",
    "    button3 = widgets.Button(description=\"Interesting Terrain\")\n",
    "    button4 = widgets.Button(description=\"Discard\")\n",
    "\n",
    "    output = widgets.Output()\n",
    "\n",
    "    # drag down shows categories\n",
    "    display(output, button1)\n",
    "    display(output, button2)\n",
    "    display(output, button3)\n",
    "    display(output, button4)\n",
    "\n",
    "    # create object for each button\n",
    "    cat1 = button1\n",
    "    cat2 = button2\n",
    "    cat3 = button3\n",
    "    cat4 = button4\n",
    "\n",
    "\n",
    "    # function for reacting to button click \n",
    "\n",
    "    # moves tile into apprpirate directory \n",
    "\n",
    "\n",
    "    def on_button_clicked(cat1):\n",
    "        with output:\n",
    "                dest1 = shutil.move(source+tile, destination1) \n",
    "\n",
    "    def on_button_clicked(cat2):\n",
    "        with output:\n",
    "                dest2 = shutil.move(source+tile, destination2) \n",
    "\n",
    "    def on_button_clicked(cat3):\n",
    "        with output:\n",
    "                dest3 = shutil.move(source+tile, destination3) \n",
    "\n",
    "    def on_button_clicked(cat4):\n",
    "        with output:\n",
    "                dest4 = shutil.move(source+tile, destination4) \n",
    "\n",
    "\n",
    "        button.on_click(on_button_clicked)\n",
    "\n",
    "\n",
    "# clear_putput() # is this needed? \n",
    "\n",
    "#\n",
    "\n",
    "#  buttons here are connected to the very first step \n",
    "# dispay final button, click to re start with a new tile \n",
    "display(BigOutput,BigButton)\n",
    "BigButton.on_click(on_button_clicked)\n",
    "\n",
    "#clear_output(BigOutput) # is this a need? \n",
    "\n",
    "\n"
   ]
  },
  {
   "cell_type": "code",
   "execution_count": null,
   "metadata": {},
   "outputs": [],
   "source": []
  },
  {
   "cell_type": "code",
   "execution_count": null,
   "metadata": {},
   "outputs": [],
   "source": []
  },
  {
   "cell_type": "code",
   "execution_count": null,
   "metadata": {},
   "outputs": [],
   "source": []
  },
  {
   "cell_type": "code",
   "execution_count": null,
   "metadata": {},
   "outputs": [],
   "source": []
  }
 ],
 "metadata": {
  "kernelspec": {
   "display_name": "Python 3",
   "language": "python",
   "name": "python3"
  },
  "language_info": {
   "codemirror_mode": {
    "name": "ipython",
    "version": 3
   },
   "file_extension": ".py",
   "mimetype": "text/x-python",
   "name": "python",
   "nbconvert_exporter": "python",
   "pygments_lexer": "ipython3",
   "version": "3.8.5"
  }
 },
 "nbformat": 4,
 "nbformat_minor": 4
}
